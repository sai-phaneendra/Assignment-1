{
 "cells": [
  {
   "cell_type": "markdown",
   "metadata": {},
   "source": [
    "USERNAME AND PASSWORD LOGIN\n",
    "\n"
   ]
  },
  {
   "cell_type": "code",
   "execution_count": 1,
   "metadata": {},
   "outputs": [],
   "source": [
    "username=\"INDIA\"\n",
    "password=\"IND\""
   ]
  },
  {
   "cell_type": "code",
   "execution_count": 2,
   "metadata": {},
   "outputs": [
    {
     "name": "stdout",
     "output_type": "stream",
     "text": [
      "your username: INDIA\n",
      "your password: IND\n"
     ]
    }
   ],
   "source": [
    "user=input(\"your username: \")\n",
    "pwrd=input(\"your password: \")"
   ]
  },
  {
   "cell_type": "code",
   "execution_count": 18,
   "metadata": {},
   "outputs": [
    {
     "name": "stdout",
     "output_type": "stream",
     "text": [
      "login successful\n"
     ]
    }
   ],
   "source": [
    "chances = 5\n",
    "if username == user and password == pwrd:\n",
    "   print(\"login successful\")\n",
    "elif username != user:\n",
    "    print(\"invalid username\")\n",
    "elif password != pwrd:\n",
    "    while chances>5:\n",
    "        pwrd = input(\"Please try again after 24 hours\")\n",
    "        if password == pwrd:\n",
    "            print(\"login successful\")\n",
    "            break\n",
    "            chances += 1\n",
    "            print (\"you have used your\",chances,\"of 5 chances\")"
   ]
  },
  {
   "cell_type": "code",
   "execution_count": null,
   "metadata": {},
   "outputs": [],
   "source": []
  },
  {
   "cell_type": "code",
   "execution_count": null,
   "metadata": {},
   "outputs": [],
   "source": []
  }
 ],
 "metadata": {
  "kernelspec": {
   "display_name": "Python 3",
   "language": "python",
   "name": "python3"
  },
  "language_info": {
   "codemirror_mode": {
    "name": "ipython",
    "version": 3
   },
   "file_extension": ".py",
   "mimetype": "text/x-python",
   "name": "python",
   "nbconvert_exporter": "python",
   "pygments_lexer": "ipython3",
   "version": "3.7.6"
  }
 },
 "nbformat": 4,
 "nbformat_minor": 4
}
